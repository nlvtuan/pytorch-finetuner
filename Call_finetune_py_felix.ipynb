{
  "nbformat": 4,
  "nbformat_minor": 0,
  "metadata": {
    "colab": {
      "name": "Call_finetune_py_felix.ipynb",
      "version": "0.3.2",
      "provenance": [],
      "collapsed_sections": [],
      "include_colab_link": true
    },
    "kernelspec": {
      "name": "python3",
      "display_name": "Python 3"
    },
    "accelerator": "GPU"
  },
  "cells": [
    {
      "cell_type": "markdown",
      "metadata": {
        "id": "view-in-github",
        "colab_type": "text"
      },
      "source": [
        "<a href=\"https://colab.research.google.com/github/nlvtuan/pytorch-finetuner/blob/master/Call_finetune_py_felix.ipynb\" target=\"_parent\"><img src=\"https://colab.research.google.com/assets/colab-badge.svg\" alt=\"Open In Colab\"/></a>"
      ]
    },
    {
      "cell_type": "code",
      "metadata": {
        "id": "ezYRtMz-bxcW",
        "colab_type": "code",
        "outputId": "d44d1fa2-0db0-4d83-ea8f-e7edb750f36a",
        "colab": {
          "base_uri": "https://localhost:8080/",
          "height": 154
        }
      },
      "source": [
        "from os.path import join\n",
        "from google.colab import drive\n",
        "\n",
        "ROOT = \"/content/drive\"\n",
        "drive.mount(ROOT)\n",
        "\n",
        "from google.colab import drive\n",
        "drive.mount('/content/drive')\n",
        "\n",
        "%cd drive/My\\ Drive/DeepLearning/ImageClassificationFelixgwu/pytorch-finetuner"
      ],
      "execution_count": 0,
      "outputs": [
        {
          "output_type": "stream",
          "text": [
            "Go to this URL in a browser: https://accounts.google.com/o/oauth2/auth?client_id=947318989803-6bn6qk8qdgf4n4g3pfee6491hc0brc4i.apps.googleusercontent.com&redirect_uri=urn%3Aietf%3Awg%3Aoauth%3A2.0%3Aoob&scope=email%20https%3A%2F%2Fwww.googleapis.com%2Fauth%2Fdocs.test%20https%3A%2F%2Fwww.googleapis.com%2Fauth%2Fdrive%20https%3A%2F%2Fwww.googleapis.com%2Fauth%2Fdrive.photos.readonly%20https%3A%2F%2Fwww.googleapis.com%2Fauth%2Fpeopleapi.readonly&response_type=code\n",
            "\n",
            "Enter your authorization code:\n",
            "··········\n",
            "Mounted at /content/drive\n",
            "Drive already mounted at /content/drive; to attempt to forcibly remount, call drive.mount(\"/content/drive\", force_remount=True).\n",
            "/content/drive/My Drive/DeepLearning/ImageClassificationFelixgwu/pytorch-finetuner\n"
          ],
          "name": "stdout"
        }
      ]
    },
    {
      "cell_type": "code",
      "metadata": {
        "id": "n6omS6RGOSOM",
        "colab_type": "code",
        "outputId": "2416c4bf-5e04-470e-adec-9b653177edcd",
        "colab": {
          "base_uri": "https://localhost:8080/",
          "height": 84
        }
      },
      "source": [
        "pip install -U logzero"
      ],
      "execution_count": 0,
      "outputs": [
        {
          "output_type": "stream",
          "text": [
            "Collecting logzero\n",
            "  Downloading https://files.pythonhosted.org/packages/97/24/27295d318ea8976b12cf9cc51d82e7c7129220f6a3cc9e3443df3be8afdb/logzero-1.5.0-py2.py3-none-any.whl\n",
            "Installing collected packages: logzero\n",
            "Successfully installed logzero-1.5.0\n"
          ],
          "name": "stdout"
        }
      ]
    },
    {
      "cell_type": "code",
      "metadata": {
        "id": "cv1mfSkNOmIj",
        "colab_type": "code",
        "outputId": "88d77ccc-5845-4bdc-8e8a-c7af038a77aa",
        "colab": {
          "base_uri": "https://localhost:8080/",
          "height": 168
        }
      },
      "source": [
        "pip install tensorboardX"
      ],
      "execution_count": 0,
      "outputs": [
        {
          "output_type": "stream",
          "text": [
            "Collecting tensorboardX\n",
            "\u001b[?25l  Downloading https://files.pythonhosted.org/packages/c3/12/dcaf67e1312475b26db9e45e7bb6f32b540671a9ee120b3a72d9e09bc517/tensorboardX-1.8-py2.py3-none-any.whl (216kB)\n",
            "\u001b[K     |████████████████████████████████| 225kB 3.4MB/s \n",
            "\u001b[?25hRequirement already satisfied: six in /usr/local/lib/python3.6/dist-packages (from tensorboardX) (1.12.0)\n",
            "Requirement already satisfied: protobuf>=3.2.0 in /usr/local/lib/python3.6/dist-packages (from tensorboardX) (3.7.1)\n",
            "Requirement already satisfied: numpy in /usr/local/lib/python3.6/dist-packages (from tensorboardX) (1.16.4)\n",
            "Requirement already satisfied: setuptools in /usr/local/lib/python3.6/dist-packages (from protobuf>=3.2.0->tensorboardX) (41.2.0)\n",
            "Installing collected packages: tensorboardX\n",
            "Successfully installed tensorboardX-1.8\n"
          ],
          "name": "stdout"
        }
      ]
    },
    {
      "cell_type": "code",
      "metadata": {
        "id": "Cj8mWaVyPF1V",
        "colab_type": "code",
        "outputId": "9304c4b6-0ef7-481a-ca8d-1136873e7cc1",
        "colab": {
          "base_uri": "https://localhost:8080/",
          "height": 487
        }
      },
      "source": [
        "pip install cnn_finetune"
      ],
      "execution_count": 0,
      "outputs": [
        {
          "output_type": "stream",
          "text": [
            "Collecting cnn_finetune\n",
            "  Downloading https://files.pythonhosted.org/packages/e4/63/03a442d31401c43fc17a814f22bd7c39ab8f13f42a6b2467ca0d0d042b3a/cnn_finetune-0.6.0.tar.gz\n",
            "Requirement already satisfied: torch in /usr/local/lib/python3.6/dist-packages (from cnn_finetune) (1.1.0)\n",
            "Requirement already satisfied: torchvision>=0.3.0 in /usr/local/lib/python3.6/dist-packages (from cnn_finetune) (0.3.0)\n",
            "Collecting pretrainedmodels>=0.7.4 (from cnn_finetune)\n",
            "\u001b[?25l  Downloading https://files.pythonhosted.org/packages/84/0e/be6a0e58447ac16c938799d49bfb5fb7a80ac35e137547fc6cee2c08c4cf/pretrainedmodels-0.7.4.tar.gz (58kB)\n",
            "\u001b[K     |████████████████████████████████| 61kB 5.6MB/s \n",
            "\u001b[?25hRequirement already satisfied: scipy in /usr/local/lib/python3.6/dist-packages (from cnn_finetune) (1.3.1)\n",
            "Requirement already satisfied: tqdm in /usr/local/lib/python3.6/dist-packages (from cnn_finetune) (4.28.1)\n",
            "Requirement already satisfied: numpy in /usr/local/lib/python3.6/dist-packages (from torch->cnn_finetune) (1.16.4)\n",
            "Requirement already satisfied: pillow>=4.1.1 in /usr/local/lib/python3.6/dist-packages (from torchvision>=0.3.0->cnn_finetune) (4.3.0)\n",
            "Requirement already satisfied: six in /usr/local/lib/python3.6/dist-packages (from torchvision>=0.3.0->cnn_finetune) (1.12.0)\n",
            "Collecting munch (from pretrainedmodels>=0.7.4->cnn_finetune)\n",
            "  Downloading https://files.pythonhosted.org/packages/68/f4/260ec98ea840757a0da09e0ed8135333d59b8dfebe9752a365b04857660a/munch-2.3.2.tar.gz\n",
            "Requirement already satisfied: olefile in /usr/local/lib/python3.6/dist-packages (from pillow>=4.1.1->torchvision>=0.3.0->cnn_finetune) (0.46)\n",
            "Building wheels for collected packages: cnn-finetune, pretrainedmodels, munch\n",
            "  Building wheel for cnn-finetune (setup.py) ... \u001b[?25l\u001b[?25hdone\n",
            "  Created wheel for cnn-finetune: filename=cnn_finetune-0.6.0-cp36-none-any.whl size=11433 sha256=782ac154fbe2ccf8425dee904159d211e0d2220086a44f4a38df04dc56d35f53\n",
            "  Stored in directory: /root/.cache/pip/wheels/12/4f/29/32978e72b606c5f51b6bd10117814deb46c6b63230eef49381\n",
            "  Building wheel for pretrainedmodels (setup.py) ... \u001b[?25l\u001b[?25hdone\n",
            "  Created wheel for pretrainedmodels: filename=pretrainedmodels-0.7.4-cp36-none-any.whl size=60963 sha256=c860bed96f5cc05a5fabda86e6ff364314cec7b2fd3e5d041355bd01180bb958\n",
            "  Stored in directory: /root/.cache/pip/wheels/69/df/63/62583c096289713f22db605aa2334de5b591d59861a02c2ecd\n",
            "  Building wheel for munch (setup.py) ... \u001b[?25l\u001b[?25hdone\n",
            "  Created wheel for munch: filename=munch-2.3.2-py2.py3-none-any.whl size=6613 sha256=bf0c3aeebb5a21e516405b03a02de9b69ff4d36328b766b5d80308328d22f76d\n",
            "  Stored in directory: /root/.cache/pip/wheels/db/bf/bc/06a3e1bfe0ab27d2e720ceb3cff3159398d92644c0cec2c125\n",
            "Successfully built cnn-finetune pretrainedmodels munch\n",
            "Installing collected packages: munch, pretrainedmodels, cnn-finetune\n",
            "Successfully installed cnn-finetune-0.6.0 munch-2.3.2 pretrainedmodels-0.7.4\n"
          ],
          "name": "stdout"
        }
      ]
    },
    {
      "cell_type": "code",
      "metadata": {
        "id": "cYqm_pa3PUQV",
        "colab_type": "code",
        "outputId": "3882f7c6-5c4b-4204-bd20-5e6e47ddfe00",
        "colab": {
          "base_uri": "https://localhost:8080/",
          "height": 118
        }
      },
      "source": [
        "pip install adabound"
      ],
      "execution_count": 0,
      "outputs": [
        {
          "output_type": "stream",
          "text": [
            "Collecting adabound\n",
            "  Downloading https://files.pythonhosted.org/packages/cd/44/0c2c414effb3d9750d780b230dbb67ea48ddc5d9a6d7a9b7e6fcc6bdcff9/adabound-0.0.5-py3-none-any.whl\n",
            "Requirement already satisfied: torch>=0.4.0 in /usr/local/lib/python3.6/dist-packages (from adabound) (1.1.0)\n",
            "Requirement already satisfied: numpy in /usr/local/lib/python3.6/dist-packages (from torch>=0.4.0->adabound) (1.16.4)\n",
            "Installing collected packages: adabound\n",
            "Successfully installed adabound-0.0.5\n"
          ],
          "name": "stdout"
        }
      ]
    },
    {
      "cell_type": "code",
      "metadata": {
        "id": "Cv9eOlwzacJE",
        "colab_type": "code",
        "outputId": "78370007-0ed1-40bd-a60f-72fade5ed907",
        "colab": {
          "base_uri": "https://localhost:8080/",
          "height": 776
        }
      },
      "source": [
        "!python train.py Bark101m --felix --model resnet50 --epochs 300 --base-lr 0.01 --lr-step-epochs 100,200"
      ],
      "execution_count": 0,
      "outputs": [
        {
          "output_type": "stream",
          "text": [
            "Running script with args: Namespace(base_lr=0.01, batch_size=128, calc_rgb_mean_and_std=False, cosine_annealing_eta_min=1e-05, cosine_annealing_mult=2, cosine_annealing_t_max=None, cuda=True, cutmix=False, cutmix_beta=1.0, cutmix_prob=1.0, cutout=False, cutout_holes=None, cutout_length=None, data='Bark101m', disp_batches=1, drop_last=False, epochs=300, felix=True, felix_holes=1, felix_length=64, final_lr=0.1, icap=False, icap_beta=0.3, image_dump=False, input_size=224, interpolation='BILINEAR', jitter_brightness=0.1, jitter_contrast=0.1, jitter_hue=0.05, jitter_saturation=0.1, log_dir='logs', lr_factor=0.1, lr_patience=None, lr_step_epochs=[100, 200], mixup=False, mixup_alpha=None, model='resnet50', model_dir='model', momentum=0.9, no_cuda=False, optimizer='sgd', prefix='20190829135906', random_erasing=False, random_erasing_p=None, random_erasing_r1=None, random_erasing_r2=None, random_erasing_sh=None, random_erasing_sl=None, random_horizontal_flip=0.5, random_resized_crop_ratio=[0.75, 1.3333333333333333], random_resized_crop_scale=[0.08, 1.0], random_rotate_degree=3.0, random_vertical_flip=0.0, resume=None, rgb_mean=[0.0, 0.0, 0.0], rgb_std=[1.0, 1.0, 1.0], ricap=False, ricap_beta=None, ricap_with_line=False, save_best_and_last=False, save_best_only=False, scale_size=256, scratch=False, seed=None, start_epoch=0, val_batch_size=256, warm_restart_current=None, warm_restart_next=None, warmup_epochs=5, wd=0.0001, workers=1)\n",
            "scale_size: 256  input_size: 224\n",
            "rgb_mean: [0.0, 0.0, 0.0]\n",
            "rgb_std: [1.0, 1.0, 1.0]\n",
            "number of train dataset: 2\n",
            "number of validation dataset: 1\n",
            "number of classes: 1\n",
            "Using felix: holes:1 length:64\n",
            "=> using pre-trained model 'resnet50'\n",
            "Downloading: \"https://download.pytorch.org/models/resnet50-19c8e357.pth\" to /root/.cache/torch/checkpoints/resnet50-19c8e357.pth\n",
            "100% 102502400/102502400 [00:06<00:00, 16659011.62it/s]\n",
            "=> using GPU\n",
            "=> using optimizer: sgd\n",
            "=> using MultiStepLR scheduler\n",
            "=> model and logs prefix: 20190829135906\n",
            "=> log dir: logs\n",
            "=> model dir: model\n",
            "=> tensorboardX log dir: logs/20190829135906-tensorboardX\n",
            "Traceback (most recent call last):\n",
            "  File \"train.py\", line 658, in <module>\n",
            "    main()\n",
            "  File \"train.py\", line 371, in main\n",
            "    train(args, 'normal', train_loader, model, device, criterion, optimizer, scheduler, epoch, logger, log_writer)\n",
            "  File \"train.py\", line 406, in train\n",
            "    for batch_idx, (data, target, _paths) in enumerate(train_loader):\n",
            "  File \"/usr/local/lib/python3.6/dist-packages/torch/utils/data/dataloader.py\", line 582, in __next__\n",
            "    return self._process_next_batch(batch)\n",
            "  File \"/usr/local/lib/python3.6/dist-packages/torch/utils/data/dataloader.py\", line 608, in _process_next_batch\n",
            "    raise batch.exc_type(batch.exc_msg)\n",
            "RuntimeError: Traceback (most recent call last):\n",
            "  File \"/usr/local/lib/python3.6/dist-packages/torch/utils/data/_utils/worker.py\", line 99, in _worker_loop\n",
            "    samples = collate_fn([dataset[i] for i in batch_indices])\n",
            "  File \"/usr/local/lib/python3.6/dist-packages/torch/utils/data/_utils/worker.py\", line 99, in <listcomp>\n",
            "    samples = collate_fn([dataset[i] for i in batch_indices])\n",
            "  File \"/content/drive/My Drive/DeepLearning/ImageClassificationFelixgwu/pytorch-finetuner/util/dataloader.py\", line 415, in __getitem__\n",
            "    original_tuple = super(ImageFolderWithPaths, self).__getitem__(index)\n",
            "  File \"/usr/local/lib/python3.6/dist-packages/torchvision/datasets/folder.py\", line 140, in __getitem__\n",
            "    sample = self.transform(sample)\n",
            "  File \"/usr/local/lib/python3.6/dist-packages/torchvision/transforms/transforms.py\", line 61, in __call__\n",
            "    img = t(img)\n",
            "  File \"/content/drive/My Drive/DeepLearning/ImageClassificationFelixgwu/pytorch-finetuner/util/dataloader.py\", line 390, in __call__\n",
            "    img = torch.cat((above_img, below_img), 0)\n",
            "RuntimeError: invalid argument 0: Sizes of tensors must match except in dimension 0. Got 1 and 159 in dimension 1 at /pytorch/aten/src/TH/generic/THTensor.cpp:711\n",
            "\n"
          ],
          "name": "stdout"
        }
      ]
    }
  ]
}